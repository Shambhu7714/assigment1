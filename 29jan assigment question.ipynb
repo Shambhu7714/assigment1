{
 "cells": [
  {
   "attachments": {},
   "cell_type": "markdown",
   "metadata": {},
   "source": [
    "01. who devlope the python programming language?\n",
    "ans:- guido van rossum"
   ]
  },
  {
   "attachments": {},
   "cell_type": "markdown",
   "metadata": {},
   "source": [
    "02. whic  type of programming does support python ?\n",
    "ans:-multiple like object oriented programming and structure programming"
   ]
  },
  {
   "attachments": {},
   "cell_type": "markdown",
   "metadata": {},
   "source": [
    "03. is python is case sensitive when deling with identifiers\n",
    "ans:- python is case sensitive language and deling with \n",
    "lower case , upper case numeric and underscores"
   ]
  },
  {
   "attachments": {},
   "cell_type": "markdown",
   "metadata": {},
   "source": [
    "04. what is the correct extension of python file?\n",
    "ans:- .py"
   ]
  },
  {
   "attachments": {},
   "cell_type": "markdown",
   "metadata": {},
   "source": [
    "05. is python is complier or interpreted?\n",
    "ans:- python is interpreted language"
   ]
  },
  {
   "attachments": {},
   "cell_type": "markdown",
   "metadata": {},
   "source": [
    "06. name aq few block code used in identify python language\n",
    "ans:- var1\n",
    "_var1\n",
    "_1_var\n",
    "var_1"
   ]
  },
  {
   "attachments": {},
   "cell_type": "markdown",
   "metadata": {},
   "source": [
    "07. state a character used given single line command in python \n",
    ":- # and '' "
   ]
  },
  {
   "attachments": {},
   "cell_type": "markdown",
   "metadata": {},
   "source": [
    "08. mention function which can help us to find version of the python  that can be use know\n",
    "ans:- sys version"
   ]
  },
  {
   "attachments": {},
   "cell_type": "markdown",
   "metadata": {},
   "source": [
    "09. python suppoft the creation of anaymouse function at run time , using a constant called\n",
    "ans:- lamda"
   ]
  },
  {
   "attachments": {},
   "cell_type": "markdown",
   "metadata": {},
   "source": [
    "10. what does  pip satnd for python\n",
    "ans:- preferred installer program"
   ]
  },
  {
   "attachments": {},
   "cell_type": "markdown",
   "metadata": {},
   "source": [
    "11. mention a few buit-in function in python\n",
    ":- type(),sum(),lamda(),max(),min(),filter(),reduce(),;len()and sono..."
   ]
  },
  {
   "attachments": {},
   "cell_type": "markdown",
   "metadata": {},
   "source": [
    "12. what are the maximum possible length of an identifier in python\n",
    "ans:- 79 characters"
   ]
  },
  {
   "attachments": {},
   "cell_type": "markdown",
   "metadata": {},
   "source": [
    "13. what are the benfits of using python\n",
    "ans:- lots of benifit of python examlpe time saving , use to simple to write a program labobary is big so using bilt-in function to perform very fast and coorectly"
   ]
  },
  {
   "attachments": {},
   "cell_type": "markdown",
   "metadata": {},
   "source": [
    "14. how is memory managed in python\n",
    "ans:- Python involves a private heap containing all Python objects and data structures"
   ]
  },
  {
   "attachments": {},
   "cell_type": "markdown",
   "metadata": {},
   "source": [
    "15. how to install python on windows and set path variables?\n",
    "ans:- Right-clicking This PC and going to Properties.\n",
    "\n",
    "Clicking on the Advanced system settings in the menu on the left.\n",
    "\n",
    "Clicking on the Environment Variables button o​n the bottom right.\n",
    "\n",
    "In the System variables section, selecting the Path variable and clicking on Edit. The next screen will show all the directories that are currently a part of the PATH variable.\n",
    "\n",
    "Clicking on New and entering Python’s install directory."
   ]
  },
  {
   "attachments": {},
   "cell_type": "markdown",
   "metadata": {},
   "source": [
    "16. is indentaion required in python?\n",
    "ans:- the indentation in Python is very important."
   ]
  }
 ],
 "metadata": {
  "language_info": {
   "name": "python"
  },
  "orig_nbformat": 4
 },
 "nbformat": 4,
 "nbformat_minor": 2
}
